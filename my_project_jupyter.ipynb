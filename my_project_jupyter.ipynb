{
 "cells": [
  {
   "cell_type": "markdown",
   "metadata": {},
   "source": [
    "<center>\n",
    "    <img src=\"https://cf-courses-data.s3.us.cloud-object-storage.appdomain.cloud/IBMDeveloperSkillsNetwork-DS0105EN-SkillsNetwork/labs/Module2/images/SN_web_lightmode.png\" width=\"300\" alt=\"cognitiveclass.ai logo\">\n",
    "</center>\n"
   ]
  },
  {
   "cell_type": "markdown",
   "metadata": {},
   "source": [
    "#### Add your code below following the instructions given in the course\n"
   ]
  },
  {
   "cell_type": "markdown",
   "metadata": {},
   "source": [
    "Exercise 2 - Title Cell (Markdown)\n",
    "\n",
    "# Final project\n"
   ]
  },
  {
   "cell_type": "markdown",
   "metadata": {},
   "source": [
    "Exercise 3 - Introduction (Markdown)\n",
    "\n",
    "## Introduction\n",
    "Write a brief introduction about the purpose of the notebook.\n",
    "\n"
   ]
  },
  {
   "cell_type": "markdown",
   "metadata": {},
   "source": [
    "Exercise 4 - Data Science Languages (Markdown)\n",
    "\n",
    "## Data Science Languages\n",
    "- Python\n",
    "- R\n",
    "- SQL\n",
    "- Java\n",
    "- Scala\n",
    "\n"
   ]
  },
  {
   "cell_type": "markdown",
   "metadata": {},
   "source": [
    "Exercise 5 - Data Science Libraries (Markdown)\n",
    "\n",
    "## Data Science Libraries\n",
    "- Pandas (Python)\n",
    "- NumPy (Python)\n",
    "- TensorFlow (Python)\n",
    "- scikit-learn (Python)\n",
    "- ggplot2 (R)\n"
   ]
  },
  {
   "cell_type": "markdown",
   "metadata": {},
   "source": [
    "Exercise 6 - Data Science Tools Table (Markdown)\n",
    "\n",
    "## Data Science Tools\n",
    "\n",
    "| Tool | Type | Usage |\n",
    "|------|------|-------|\n",
    "| Jupyter Notebook | Development Environment | Interactive coding |\n",
    "| Pandas | Library | Data manipulation |\n",
    "| NumPy | Library | Numerical computing |\n",
    "| Matplotlib | Library | Data visualization |\n",
    "| Scikit-learn | Library | Machine Learning |\n"
   ]
  },
  {
   "cell_type": "markdown",
   "metadata": {},
   "source": [
    "Exercise 7 - Arithmetic Expressions (Markdown)\n",
    "\n",
    "## Arithmetic Expression Examples\n",
    "Here are some examples of basic arithmetic expressions:\n",
    "- Addition: \\( a + b \\)\n",
    "- Subtraction: \\( a - b \\)\n",
    "- Multiplication: \\( a \\times b \\)\n",
    "- Division: \\( \\frac{a}{b} \\)\n",
    "- Exponentiation: \\( a^b \\)\n",
    "\n"
   ]
  },
  {
   "cell_type": "markdown",
   "metadata": {},
   "source": [
    "Exercise 8 - Multiply and Add Numbers (Code)\n",
    "\n",
    "# Multiply and add numbers\n",
    "result = (3 * 4) + (2 * 5)\n",
    "result\n",
    "\n"
   ]
  },
  {
   "cell_type": "markdown",
   "metadata": {},
   "source": [
    "Exercise 9 - Convert Minutes to Hours (Code)\n",
    "\n",
    "# Convert minutes to hours\n",
    "minutes = 120\n",
    "hours = minutes / 60\n",
    "hours\n",
    "\n"
   ]
  },
  {
   "cell_type": "markdown",
   "metadata": {},
   "source": [
    "Exercise 10 - Objectives (Markdown)\n",
    "\n",
    "## Objectives\n",
    "- To learn the basics of data science\n",
    "- To understand how to manipulate data with Python\n",
    "- To create meaningful data visualizations\n",
    "\n"
   ]
  },
  {
   "cell_type": "markdown",
   "metadata": {},
   "source": [
    "Exercise 11 - Author's Name (Markdown)\n",
    "\n",
    "## Author\n",
    "Written by [Alex Mendes]\n",
    "\n"
   ]
  },
  {
   "cell_type": "code",
   "execution_count": null,
   "metadata": {},
   "outputs": [],
   "source": []
  }
 ],
 "metadata": {
  "kernelspec": {
   "display_name": "Python",
   "language": "python",
   "name": "conda-env-python-py"
  },
  "language_info": {
   "codemirror_mode": {
    "name": "ipython",
    "version": 3
   },
   "file_extension": ".py",
   "mimetype": "text/x-python",
   "name": "python",
   "nbconvert_exporter": "python",
   "pygments_lexer": "ipython3",
   "version": "3.7.12"
  }
 },
 "nbformat": 4,
 "nbformat_minor": 4
}
